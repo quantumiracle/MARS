{
 "cells": [
  {
   "cell_type": "markdown",
   "metadata": {},
   "source": [
    "# Game Matrix Solver Accuracy Analysis\n",
    "This tutorial compares the accuracies of serveral Nash solvers for game matrix. "
   ]
  },
  {
   "cell_type": "code",
   "execution_count": 9,
   "metadata": {},
   "outputs": [
    {
     "name": "stdout",
     "output_type": "stream",
     "text": [
      "Game matrix: \n"
     ]
    },
    {
     "data": {
      "text/html": [
       "<div>\n",
       "<style scoped>\n",
       "    .dataframe tbody tr th:only-of-type {\n",
       "        vertical-align: middle;\n",
       "    }\n",
       "\n",
       "    .dataframe tbody tr th {\n",
       "        vertical-align: top;\n",
       "    }\n",
       "\n",
       "    .dataframe thead th {\n",
       "        text-align: right;\n",
       "    }\n",
       "</style>\n",
       "<table border=\"1\" class=\"dataframe\">\n",
       "  <thead>\n",
       "    <tr style=\"text-align: right;\">\n",
       "      <th></th>\n",
       "      <th>0</th>\n",
       "      <th>1</th>\n",
       "    </tr>\n",
       "  </thead>\n",
       "  <tbody>\n",
       "    <tr>\n",
       "      <th>0</th>\n",
       "      <td>2</td>\n",
       "      <td>1</td>\n",
       "    </tr>\n",
       "    <tr>\n",
       "      <th>1</th>\n",
       "      <td>1</td>\n",
       "      <td>1</td>\n",
       "    </tr>\n",
       "  </tbody>\n",
       "</table>\n",
       "</div>"
      ],
      "text/plain": [
       "   0  1\n",
       "0  2  1\n",
       "1  1  1"
      ]
     },
     "execution_count": 9,
     "metadata": {},
     "output_type": "execute_result"
    }
   ],
   "source": [
    "import numpy as np\n",
    "# ! pip install pandas\n",
    "import pandas as pd\n",
    "GameMatrix = np.array([[2,1], [1,1]])\n",
    "# GameMatrix = np.array([[0,2,-1], [-1,0,1], [1,-1,0]])\n",
    "\n",
    "NumAgents = 2\n",
    "\n",
    "print('Game matrix: ')\n",
    "pd.DataFrame(GameMatrix)\n"
   ]
  },
  {
   "cell_type": "code",
   "execution_count": 10,
   "metadata": {},
   "outputs": [
    {
     "name": "stdout",
     "output_type": "stream",
     "text": [
      "Nash strategies solved by two solvers: \n",
      "ECOS (array([0.5157873, 0.4842127]), array([3.28893813e-11, 1.00000000e+00])), \n",
      "MWU [[0.62506776 0.37493217]\n",
      " [0.32717959 0.67282028]]\n"
     ]
    },
    {
     "name": "stderr",
     "output_type": "stream",
     "text": [
      "/home/quantumiracle/anaconda3/envs/x/lib/python3.7/site-packages/ecos/ecos.py:26: UserWarning: Converting G to a CSC matrix; may take a while.\n",
      "  warn(\"Converting G to a CSC matrix; may take a while.\")\n",
      "/home/quantumiracle/anaconda3/envs/x/lib/python3.7/site-packages/ecos/ecos.py:29: UserWarning: Converting A to a CSC matrix; may take a while.\n",
      "  warn(\"Converting A to a CSC matrix; may take a while.\")\n"
     ]
    }
   ],
   "source": [
    "import sys\n",
    "sys.path.append(\"../..\")  # get mars folder\n",
    "from mars.equilibrium_solver import NashEquilibriumECOSSolver, NashEquilibriumMWUSolver\n",
    "\n",
    "ne_ecos, ne_value_ecos = NashEquilibriumECOSSolver(GameMatrix)\n",
    "ne_mwu, ne_value_mwu = NashEquilibriumMWUSolver(GameMatrix, Itr=10)\n",
    "print(f\"Nash strategies solved by two solvers: \\nECOS {ne_ecos}, \\nMWU {ne_mwu}\")\n"
   ]
  },
  {
   "cell_type": "code",
   "execution_count": 3,
   "metadata": {},
   "outputs": [],
   "source": [
    "import numpy as np\n",
    "\n",
    "def kl(p, q):\n",
    "    \"\"\"Kullback-Leibler divergence D(P || Q) for discrete distributions\n",
    "    Parameters\n",
    "    ----------\n",
    "    p, q : array-like, dtype=float, shape=n\n",
    "    Discrete probability distributions.\n",
    "    \"\"\"\n",
    "    p = np.asarray(p, dtype=np.float)\n",
    "    q = np.asarray(q, dtype=np.float)\n",
    "\n",
    "    return np.sum(np.where(p != 0, p * np.log(p / q), 0))\n",
    "\n",
    "def random_game_matrix(dim, number=1):\n",
    "    \"\"\" retrun dim*dim uniform payoff matrix for max player.\"\"\"    \n",
    "    rand_matrices = np.random.uniform(-1,1, size=(number, dim, dim))\n",
    "    print(rand_matrices.shape)\n",
    "    return rand_matrices\n",
    "\n",
    "\n",
    "def compare_solvers(mwu_itr=10):\n",
    "    number_tests = 1000\n",
    "    dim = 3 # number of actions per player\n",
    "\n",
    "    test_matrices = random_game_matrix(dim, number_tests)\n",
    "    avg_kl = []\n",
    "    for matrix in test_matrices:\n",
    "        ne_ecos, ne_value_ecos = NashEquilibriumECOSSolver(matrix)\n",
    "        ne_mwu, ne_value_mwu = NashEquilibriumMWUSolver(matrix, Itr=mwu_itr)\n",
    "        players_kl = []\n",
    "        for ecos_pi, mwu_pi in zip(ne_ecos, ne_mwu):\n",
    "            players_kl.append(kl(ecos_pi, mwu_pi))\n",
    "        avg_kl.append(np.mean(players_kl))  # average over two players\n",
    "\n",
    "    print(f'avg. kl: {np.mean(avg_kl)}')\n",
    "    return np.mean(avg_kl)\n",
    "\n"
   ]
  },
  {
   "cell_type": "markdown",
   "metadata": {},
   "source": [
    "## Solving Iteration"
   ]
  },
  {
   "cell_type": "code",
   "execution_count": 30,
   "metadata": {},
   "outputs": [
    {
     "name": "stdout",
     "output_type": "stream",
     "text": [
      "(1000, 3, 3)\n"
     ]
    },
    {
     "name": "stderr",
     "output_type": "stream",
     "text": [
      "/home/quantumiracle/anaconda3/envs/x/lib/python3.7/site-packages/ecos/ecos.py:26: UserWarning: Converting G to a CSC matrix; may take a while.\n",
      "  warn(\"Converting G to a CSC matrix; may take a while.\")\n",
      "/home/quantumiracle/anaconda3/envs/x/lib/python3.7/site-packages/ecos/ecos.py:29: UserWarning: Converting A to a CSC matrix; may take a while.\n",
      "  warn(\"Converting A to a CSC matrix; may take a while.\")\n"
     ]
    },
    {
     "name": "stdout",
     "output_type": "stream",
     "text": [
      "avg. kl: 0.3019965753128616\n",
      "(1000, 3, 3)\n",
      "avg. kl: 0.24413487095101347\n",
      "(1000, 3, 3)\n",
      "avg. kl: 0.20543419958894316\n",
      "(1000, 3, 3)\n",
      "avg. kl: 0.1912415608699278\n",
      "(1000, 3, 3)\n",
      "avg. kl: 0.17293169280343176\n",
      "(1000, 3, 3)\n",
      "avg. kl: 0.1611522225412801\n",
      "(1000, 3, 3)\n",
      "avg. kl: 0.15708570694260807\n",
      "(1000, 3, 3)\n",
      "avg. kl: 0.15661327749750584\n",
      "(1000, 3, 3)\n",
      "avg. kl: 0.14222384674579025\n"
     ]
    },
    {
     "data": {
      "image/png": "[encoded data removed]",
      "text/plain": [
       "<Figure size 432x288 with 1 Axes>"
      ]
     },
     "metadata": {
      "needs_background": "light"
     },
     "output_type": "display_data"
    }
   ],
   "source": [
    "# MWU solver with different iterations\n",
    "# evaluated by KL divergence of nash strategies by MWU and ECOS (as oracle)\n",
    "import matplotlib.pyplot as plt\n",
    "\n",
    "kl_list = []\n",
    "itr_list = []\n",
    "for i in range(1, 10):\n",
    "    itr = i*50\n",
    "    itr_list.append(itr)\n",
    "    kl_list.append(compare_solvers(itr))\n",
    "\n",
    "# for itr in [500, 1000]:\n",
    "#     itr_list.append(itr)\n",
    "#     kl_list.append(compare_solvers(itr))\n",
    "plt.title('MWU')\n",
    "plt.xlabel('solving iteration')\n",
    "plt.ylabel('KL')\n",
    "plt.plot(itr_list,kl_list)\n",
    "plt.savefig('mwu_different_itr.png')\n"
   ]
  },
  {
   "cell_type": "markdown",
   "metadata": {},
   "source": [
    "## Learning Rate\n",
    "\n",
    "Here the MWU with fixed learning rate and adaptive/decayed learning rate (with different decay rates) are compared."
   ]
  },
  {
   "cell_type": "code",
   "execution_count": 11,
   "metadata": {},
   "outputs": [],
   "source": [
    "import copy\n",
    "\n",
    "def NashEquilibriumMWUSolver(A, Itr=500, verbose=False, adaptive_lr_rate=-0.5):\n",
    "    \"\"\" Solve Nash equilibrium with multiplicative weights udpate.\"\"\"\n",
    "    # discount = 0.9\n",
    "    EPS = 1e-7 # prevent numerical problem\n",
    "    row_action_num = A.shape[0]\n",
    "    col_action_num = A.shape[1]\n",
    "    learning_rate = np.sqrt(np.log(row_action_num)/Itr)  # sqrt(log |A| / T)\n",
    "\n",
    "    row_policy = np.ones(row_action_num)/row_action_num\n",
    "    col_policy = np.ones(col_action_num)/col_action_num\n",
    "    policies = np.array([row_policy, col_policy])\n",
    "    final_policy = copy.deepcopy(policies)\n",
    "\n",
    "    for i in range(Itr):\n",
    "        if adaptive_lr_rate and (i+1) % 20 == 0:\n",
    "            learning_rate = np.power(i, adaptive_lr_rate)\n",
    "        policies_ = copy.deepcopy(policies)  # track old value before update (update is inplace)\n",
    "        # for row player, maximizer\n",
    "        payoff_vec = policies_[1] @ A.T\n",
    "        policies[0] = policies[0] * np.exp(learning_rate*payoff_vec)\n",
    "\n",
    "        # for col player, minimizer\n",
    "        payoff_vec = policies_[0] @ A\n",
    "        policies[1] = policies[1] * np.exp(-learning_rate*payoff_vec)\n",
    "\n",
    "        # above is unnormalized, normalize it to be distribution\n",
    "        policies = policies/np.expand_dims(EPS+np.sum(policies, axis=-1), -1)\n",
    "\n",
    "        # MWU is average-iterate coverging, so accumulate polices\n",
    "        final_policy += policies\n",
    "\n",
    "    final_policy = final_policy / (Itr+1)\n",
    "\n",
    "    if verbose:\n",
    "        print(f'For row player, strategy is {final_policy[0]}')\n",
    "        print(f'For column player, strategy is {final_policy[1]}')\n",
    "        print(learning_rate)\n",
    "\n",
    "    nash_value = final_policy[0] @ A @ final_policy[1].T\n",
    "    return final_policy, nash_value\n",
    "    \n",
    "def kl(p, q):\n",
    "    \"\"\"Kullback-Leibler divergence D(P || Q) for discrete distributions\n",
    "    Parameters\n",
    "    ----------\n",
    "    p, q : array-like, dtype=float, shape=n\n",
    "    Discrete probability distributions.\n",
    "    \"\"\"\n",
    "    p = np.asarray(p, dtype=np.float)\n",
    "    q = np.asarray(q, dtype=np.float)\n",
    "\n",
    "    return np.sum(np.where(p != 0, p * np.log(p / q), 0))\n",
    "\n",
    "def compare_solvers(mwu_itr=10, adapt=False, number_tests = 1000, dim = 3):\n",
    "\n",
    "    test_matrices = random_game_matrix(dim, number_tests)\n",
    "    avg_kl = []\n",
    "    for matrix in test_matrices:\n",
    "        ne_ecos, ne_value_ecos = NashEquilibriumECOSSolver(matrix)\n",
    "        ne_mwu, ne_value_mwu = NashEquilibriumMWUSolver(matrix, Itr=mwu_itr, adaptive_lr_rate=adapt)\n",
    "        players_kl = []\n",
    "        for ecos_pi, mwu_pi in zip(ne_ecos, ne_mwu):\n",
    "            players_kl.append(kl(ecos_pi, mwu_pi))\n",
    "        avg_kl.append(np.mean(players_kl))  # average over two players\n",
    "\n",
    "    print(f'avg. kl: {np.mean(avg_kl)}')\n",
    "    return np.mean(avg_kl)"
   ]
  },
  {
   "cell_type": "code",
   "execution_count": 38,
   "metadata": {},
   "outputs": [
    {
     "name": "stdout",
     "output_type": "stream",
     "text": [
      "(1000, 3, 3)\n",
      "avg. kl: 0.24834930390811952\n"
     ]
    }
   ],
   "source": [
    "klv = compare_solvers(100, False)"
   ]
  },
  {
   "cell_type": "code",
   "execution_count": 37,
   "metadata": {},
   "outputs": [
    {
     "name": "stdout",
     "output_type": "stream",
     "text": [
      "(1000, 3, 3)\n",
      "avg. kl: 0.19824396415473072\n"
     ]
    }
   ],
   "source": [
    "klv = compare_solvers(100, True)"
   ]
  },
  {
   "cell_type": "code",
   "execution_count": 50,
   "metadata": {},
   "outputs": [
    {
     "name": "stdout",
     "output_type": "stream",
     "text": [
      "(1000, 3, 3)\n",
      "avg. kl: 0.308467563444861\n",
      "(1000, 3, 3)\n",
      "avg. kl: 0.247183284296996\n",
      "(1000, 3, 3)\n",
      "avg. kl: 0.21705198095503495\n",
      "(1000, 3, 3)\n",
      "avg. kl: 0.20003712700077342\n",
      "(1000, 3, 3)\n",
      "avg. kl: 0.18332162147773481\n",
      "(1000, 3, 3)\n",
      "avg. kl: 0.17174390611996723\n",
      "(1000, 3, 3)\n",
      "avg. kl: 0.15578409318802863\n",
      "(1000, 3, 3)\n",
      "avg. kl: 0.15375901348015722\n",
      "(1000, 3, 3)\n",
      "avg. kl: 0.14222903517651445\n",
      "(1000, 3, 3)\n",
      "avg. kl: 0.2825250771458516\n",
      "(1000, 3, 3)\n",
      "avg. kl: 0.1948187600328626\n",
      "(1000, 3, 3)\n",
      "avg. kl: 0.1549977701452843\n",
      "(1000, 3, 3)\n",
      "avg. kl: 0.13185021958489063\n",
      "(1000, 3, 3)\n",
      "avg. kl: 0.11104208121534655\n",
      "(1000, 3, 3)\n",
      "avg. kl: 0.10232237388521491\n",
      "(1000, 3, 3)\n",
      "avg. kl: 0.09545085857460436\n",
      "(1000, 3, 3)\n",
      "avg. kl: 0.08919823571887629\n",
      "(1000, 3, 3)\n",
      "avg. kl: 0.08815992258886257\n",
      "(1000, 3, 3)\n",
      "avg. kl: 0.24162246509867005\n",
      "(1000, 3, 3)\n",
      "avg. kl: 0.15745655578462003\n",
      "(1000, 3, 3)\n",
      "avg. kl: 0.11313825154455048\n",
      "(1000, 3, 3)\n",
      "avg. kl: 0.09770014062395373\n",
      "(1000, 3, 3)\n",
      "avg. kl: 0.07887381441731701\n",
      "(1000, 3, 3)\n",
      "avg. kl: 0.07214728477205136\n",
      "(1000, 3, 3)\n",
      "avg. kl: 0.061016139983235226\n",
      "(1000, 3, 3)\n",
      "avg. kl: 0.06036903213217917\n",
      "(1000, 3, 3)\n",
      "avg. kl: 0.051645731127609174\n",
      "(1000, 3, 3)\n",
      "avg. kl: 0.3157948018547156\n",
      "(1000, 3, 3)\n",
      "avg. kl: 0.2420476745880024\n",
      "(1000, 3, 3)\n",
      "avg. kl: 0.21755973820839797\n",
      "(1000, 3, 3)\n",
      "avg. kl: 0.18799379500675517\n",
      "(1000, 3, 3)\n",
      "avg. kl: 0.17713025743535354\n",
      "(1000, 3, 3)\n",
      "avg. kl: 0.153208126248502\n",
      "(1000, 3, 3)\n",
      "avg. kl: 0.15266468436004973\n",
      "(1000, 3, 3)\n",
      "avg. kl: 0.1502914036949395\n",
      "(1000, 3, 3)\n",
      "avg. kl: 0.14221876354686172\n"
     ]
    },
    {
     "data": {
      "image/png": "[encoded data removed]",
      "text/plain": [
       "<Figure size 432x288 with 1 Axes>"
      ]
     },
     "metadata": {
      "needs_background": "light"
     },
     "output_type": "display_data"
    }
   ],
   "source": [
    "# MWU solver with different iterations\n",
    "# evaluated by KL divergence of nash strategies by MWU and ECOS (as oracle)\n",
    "import matplotlib.pyplot as plt\n",
    "\n",
    "adaptive_lr_rates = [False, -1/2, -1/3, -2/3] # ref: Multiplicative weights update in zero-sum games\n",
    "labels = ['Fixed LR', 'LR: -1/2', 'LR: -1/3', 'LR: -2/3']\n",
    "\n",
    "for lr, label in zip(adaptive_lr_rates, labels):\n",
    "    kl_list = []\n",
    "    itr_list = []\n",
    "    for i in range(1, 10):\n",
    "        itr = i*50\n",
    "        itr_list.append(itr)\n",
    "        kl_list.append(compare_solvers(itr, lr))\n",
    "    plt.plot(itr_list, kl_list, label=label)\n",
    "\n",
    "plt.title('MWU')\n",
    "plt.xlabel('solving iteration')\n",
    "plt.ylabel('KL')\n",
    "plt.legend()\n",
    "plt.savefig('mwu_different_lr.png')\n"
   ]
  },
  {
   "cell_type": "code",
   "execution_count": 52,
   "metadata": {},
   "outputs": [
    {
     "name": "stdout",
     "output_type": "stream",
     "text": [
      "(100, 6, 6)\n",
      "avg. kl: 0.37328325208069807\n",
      "(100, 6, 6)\n"
     ]
    },
    {
     "name": "stderr",
     "output_type": "stream",
     "text": [
      "/home/quantumiracle/anaconda3/envs/x/lib/python3.7/site-packages/ecos/ecos.py:26: UserWarning: Converting G to a CSC matrix; may take a while.\n",
      "  warn(\"Converting G to a CSC matrix; may take a while.\")\n",
      "/home/quantumiracle/anaconda3/envs/x/lib/python3.7/site-packages/ecos/ecos.py:29: UserWarning: Converting A to a CSC matrix; may take a while.\n",
      "  warn(\"Converting A to a CSC matrix; may take a while.\")\n"
     ]
    },
    {
     "name": "stdout",
     "output_type": "stream",
     "text": [
      "avg. kl: 0.30652973568301034\n",
      "(100, 6, 6)\n",
      "avg. kl: 0.2682000434742388\n",
      "(100, 6, 6)\n",
      "avg. kl: 0.24157935046811105\n",
      "(100, 6, 6)\n",
      "avg. kl: 0.21681750661162863\n",
      "(100, 6, 6)\n",
      "avg. kl: 0.21373501816702556\n",
      "(100, 6, 6)\n",
      "avg. kl: 0.20172564247162167\n",
      "(100, 6, 6)\n",
      "avg. kl: 0.1924211410759341\n",
      "(100, 6, 6)\n",
      "avg. kl: 0.17671963667800875\n",
      "(100, 6, 6)\n",
      "avg. kl: 0.41984730320704455\n",
      "(100, 6, 6)\n",
      "avg. kl: 0.26754216093072986\n",
      "(100, 6, 6)\n",
      "avg. kl: 0.21534717333215816\n",
      "(100, 6, 6)\n",
      "avg. kl: 0.19702755498884483\n",
      "(100, 6, 6)\n",
      "avg. kl: 0.178682009641457\n",
      "(100, 6, 6)\n",
      "avg. kl: 0.16549497455932904\n",
      "(100, 6, 6)\n",
      "avg. kl: 0.1509183370487481\n",
      "(100, 6, 6)\n",
      "avg. kl: 0.14807091260986283\n",
      "(100, 6, 6)\n",
      "avg. kl: 0.11458363354941824\n",
      "(100, 6, 6)\n",
      "avg. kl: 0.3166687767065094\n",
      "(100, 6, 6)\n",
      "avg. kl: 0.2164874575381842\n",
      "(100, 6, 6)\n",
      "avg. kl: 0.1557499540260849\n",
      "(100, 6, 6)\n",
      "avg. kl: 0.13922636057286744\n",
      "(100, 6, 6)\n",
      "avg. kl: 0.12763455847151295\n",
      "(100, 6, 6)\n",
      "avg. kl: 0.11956745581091716\n",
      "(100, 6, 6)\n",
      "avg. kl: 0.08925375643285434\n",
      "(100, 6, 6)\n",
      "avg. kl: 0.08308728203830888\n",
      "(100, 6, 6)\n",
      "avg. kl: 0.07799417850349595\n",
      "(100, 6, 6)\n",
      "avg. kl: 0.4062309905238052\n",
      "(100, 6, 6)\n",
      "avg. kl: 0.33018141153953473\n",
      "(100, 6, 6)\n",
      "avg. kl: 0.30065203111513267\n",
      "(100, 6, 6)\n",
      "avg. kl: 0.2670562266137969\n",
      "(100, 6, 6)\n",
      "avg. kl: 0.25724439691923584\n",
      "(100, 6, 6)\n",
      "avg. kl: 0.23813770036181114\n",
      "(100, 6, 6)\n",
      "avg. kl: 0.22461403626616902\n",
      "(100, 6, 6)\n",
      "avg. kl: 0.21943496961335066\n",
      "(100, 6, 6)\n",
      "avg. kl: 0.19886305418656022\n"
     ]
    },
    {
     "data": {
      "image/png": "[encoded data removed]",
      "text/plain": [
       "<Figure size 432x288 with 1 Axes>"
      ]
     },
     "metadata": {
      "needs_background": "light"
     },
     "output_type": "display_data"
    }
   ],
   "source": [
    "# MWU solver with different iterations\n",
    "# evaluated by KL divergence of nash strategies by MWU and ECOS (as oracle)\n",
    "import matplotlib.pyplot as plt\n",
    "\n",
    "adaptive_lr_rates = [False, -1/2, -1/3, -2/3] # ref: Multiplicative weights update in zero-sum games\n",
    "labels = ['Fixed LR', 'LR: -1/2', 'LR: -1/3', 'LR: -2/3']\n",
    "\n",
    "for lr, label in zip(adaptive_lr_rates, labels):\n",
    "    kl_list = []\n",
    "    itr_list = []\n",
    "    for i in range(1, 10):\n",
    "        itr = i*50\n",
    "        itr_list.append(itr)\n",
    "        kl_list.append(compare_solvers(itr, lr, number_tests = 100, dim = 6))\n",
    "    plt.plot(itr_list, kl_list, label=label)\n",
    "\n",
    "plt.title('MWU')\n",
    "plt.xlabel('solving iteration')\n",
    "plt.ylabel('KL')\n",
    "plt.legend()\n",
    "plt.savefig('mwu_different_lr2.png')\n"
   ]
  },
  {
   "cell_type": "markdown",
   "metadata": {},
   "source": [
    "If the learning rate is not decaying per period (20 steps in previous), but per step, will it affect the convergence performance?"
   ]
  },
  {
   "cell_type": "code",
   "execution_count": 14,
   "metadata": {},
   "outputs": [],
   "source": [
    "import copy\n",
    "\n",
    "def NashEquilibriumMWUSolver(A, Itr=500, verbose=False, adaptive_lr_rate=-0.5):\n",
    "    \"\"\" Solve Nash equilibrium with multiplicative weights udpate.\"\"\"\n",
    "    # discount = 0.9\n",
    "    EPS = 1e-7 # prevent numerical problem\n",
    "    row_action_num = A.shape[0]\n",
    "    col_action_num = A.shape[1]\n",
    "    learning_rate = np.sqrt(np.log(row_action_num)/Itr)  # sqrt(log |A| / T)\n",
    "\n",
    "    row_policy = np.ones(row_action_num)/row_action_num\n",
    "    col_policy = np.ones(col_action_num)/col_action_num\n",
    "    policies = np.array([row_policy, col_policy])\n",
    "    final_policy = copy.deepcopy(policies)\n",
    "\n",
    "    for i in range(Itr):\n",
    "        if adaptive_lr_rate and i>1:  ## decay per step\n",
    "            learning_rate = np.power(i, adaptive_lr_rate)\n",
    "        policies_ = copy.deepcopy(policies)  # track old value before update (update is inplace)\n",
    "        # for row player, maximizer\n",
    "        payoff_vec = policies_[1] @ A.T\n",
    "        policies[0] = policies[0] * np.exp(learning_rate*payoff_vec)\n",
    "\n",
    "        # for col player, minimizer\n",
    "        payoff_vec = policies_[0] @ A\n",
    "        policies[1] = policies[1] * np.exp(-learning_rate*payoff_vec)\n",
    "\n",
    "        # above is unnormalized, normalize it to be distribution\n",
    "        policies = policies/np.expand_dims(EPS+np.sum(policies, axis=-1), -1)\n",
    "\n",
    "        # MWU is average-iterate coverging, so accumulate polices\n",
    "        final_policy += policies\n",
    "\n",
    "    final_policy = final_policy / (Itr+1)\n",
    "\n",
    "    if verbose:\n",
    "        print(f'For row player, strategy is {final_policy[0]}')\n",
    "        print(f'For column player, strategy is {final_policy[1]}')\n",
    "        print(learning_rate)\n",
    "\n",
    "    nash_value = final_policy[0] @ A @ final_policy[1].T\n",
    "    return final_policy, nash_value\n",
    "    \n",
    "def kl(p, q):\n",
    "    \"\"\"Kullback-Leibler divergence D(P || Q) for discrete distributions\n",
    "    Parameters\n",
    "    ----------\n",
    "    p, q : array-like, dtype=float, shape=n\n",
    "    Discrete probability distributions.\n",
    "    \"\"\"\n",
    "    p = np.asarray(p, dtype=np.float)\n",
    "    q = np.asarray(q, dtype=np.float)\n",
    "\n",
    "    return np.sum(np.where(p != 0, p * np.log(p / q), 0))\n",
    "\n",
    "def compare_solvers(mwu_itr=10, adapt=False, number_tests = 1000, dim = 3):\n",
    "\n",
    "    test_matrices = random_game_matrix(dim, number_tests)\n",
    "    avg_kl = []\n",
    "    for matrix in test_matrices:\n",
    "        ne_ecos, ne_value_ecos = NashEquilibriumECOSSolver(matrix)\n",
    "        ne_mwu, ne_value_mwu = NashEquilibriumMWUSolver(matrix, Itr=mwu_itr, adaptive_lr_rate=adapt)\n",
    "        players_kl = []\n",
    "        for ecos_pi, mwu_pi in zip(ne_ecos, ne_mwu):\n",
    "            players_kl.append(kl(ecos_pi, mwu_pi))\n",
    "        avg_kl.append(np.mean(players_kl))  # average over two players\n",
    "\n",
    "    print(f'avg. kl: {np.mean(avg_kl)}')\n",
    "    return np.mean(avg_kl)"
   ]
  },
  {
   "cell_type": "code",
   "execution_count": 15,
   "metadata": {},
   "outputs": [
    {
     "name": "stdout",
     "output_type": "stream",
     "text": [
      "(1000, 3, 3)\n"
     ]
    },
    {
     "name": "stderr",
     "output_type": "stream",
     "text": [
      "/home/quantumiracle/anaconda3/envs/x/lib/python3.7/site-packages/ecos/ecos.py:26: UserWarning: Converting G to a CSC matrix; may take a while.\n",
      "  warn(\"Converting G to a CSC matrix; may take a while.\")\n",
      "/home/quantumiracle/anaconda3/envs/x/lib/python3.7/site-packages/ecos/ecos.py:29: UserWarning: Converting A to a CSC matrix; may take a while.\n",
      "  warn(\"Converting A to a CSC matrix; may take a while.\")\n"
     ]
    },
    {
     "name": "stdout",
     "output_type": "stream",
     "text": [
      "avg. kl: 0.3094334027759404\n",
      "(1000, 3, 3)\n",
      "avg. kl: 0.25495117954689533\n",
      "(1000, 3, 3)\n",
      "avg. kl: 0.21137114458175324\n",
      "(1000, 3, 3)\n",
      "avg. kl: 0.19872309306027883\n",
      "(1000, 3, 3)\n",
      "avg. kl: 0.1778014356571053\n",
      "(1000, 3, 3)\n",
      "avg. kl: 0.16987073228749155\n",
      "(1000, 3, 3)\n",
      "avg. kl: 0.15300221170197612\n",
      "(1000, 3, 3)\n",
      "avg. kl: 0.14841533857523387\n",
      "(1000, 3, 3)\n",
      "avg. kl: 0.14377542567527213\n",
      "(1000, 3, 3)\n",
      "avg. kl: 0.20495829663520912\n",
      "(1000, 3, 3)\n",
      "avg. kl: 0.1365505859648687\n",
      "(1000, 3, 3)\n",
      "avg. kl: 0.11401920501412559\n",
      "(1000, 3, 3)\n",
      "avg. kl: 0.09905323835532873\n",
      "(1000, 3, 3)\n",
      "avg. kl: 0.0896422512736434\n",
      "(1000, 3, 3)\n",
      "avg. kl: 0.08184247473231214\n",
      "(1000, 3, 3)\n",
      "avg. kl: 0.08023349980126185\n",
      "(1000, 3, 3)\n",
      "avg. kl: 0.0708723109511629\n",
      "(1000, 3, 3)\n",
      "avg. kl: 0.06781695529202449\n",
      "(1000, 3, 3)\n",
      "avg. kl: 0.15979523535173504\n",
      "(1000, 3, 3)\n",
      "avg. kl: 0.1017320267640599\n",
      "(1000, 3, 3)\n",
      "avg. kl: 0.07742840782442943\n",
      "(1000, 3, 3)\n",
      "avg. kl: 0.06740770914189795\n",
      "(1000, 3, 3)\n",
      "avg. kl: 0.062167887759948866\n",
      "(1000, 3, 3)\n",
      "avg. kl: 0.05179878968473706\n",
      "(1000, 3, 3)\n",
      "avg. kl: 0.050467371631652144\n",
      "(1000, 3, 3)\n",
      "avg. kl: 0.04201677677563673\n",
      "(1000, 3, 3)\n",
      "avg. kl: 0.043753375622037384\n",
      "(1000, 3, 3)\n",
      "avg. kl: 0.25041227003803335\n",
      "(1000, 3, 3)\n",
      "avg. kl: 0.19369836637947863\n",
      "(1000, 3, 3)\n",
      "avg. kl: 0.17812197444191621\n",
      "(1000, 3, 3)\n",
      "avg. kl: 0.15070381851401213\n",
      "(1000, 3, 3)\n",
      "avg. kl: 0.14124198597794158\n",
      "(1000, 3, 3)\n",
      "avg. kl: 0.14641661669547118\n",
      "(1000, 3, 3)\n",
      "avg. kl: 0.12479311669189445\n",
      "(1000, 3, 3)\n",
      "avg. kl: 0.12287593677275678\n",
      "(1000, 3, 3)\n",
      "avg. kl: 0.11513714358832072\n"
     ]
    },
    {
     "data": {
      "image/png": "[encoded data removed]",
      "text/plain": [
       "<Figure size 432x288 with 1 Axes>"
      ]
     },
     "metadata": {
      "needs_background": "light"
     },
     "output_type": "display_data"
    }
   ],
   "source": [
    "# MWU solver with different iterations\n",
    "# evaluated by KL divergence of nash strategies by MWU and ECOS (as oracle)\n",
    "import matplotlib.pyplot as plt\n",
    "\n",
    "adaptive_lr_rates = [False, -1/2, -1/3, -2/3] # ref: Multiplicative weights update in zero-sum games\n",
    "labels = ['Fixed LR', 'LR: -1/2', 'LR: -1/3', 'LR: -2/3']\n",
    "\n",
    "for lr, label in zip(adaptive_lr_rates, labels):\n",
    "    kl_list = []\n",
    "    itr_list = []\n",
    "    for i in range(1, 10):\n",
    "        itr = i*50\n",
    "        itr_list.append(itr)\n",
    "        kl_list.append(compare_solvers(itr, lr))\n",
    "    plt.plot(itr_list, kl_list, label=label)\n",
    "\n",
    "plt.title('MWU')\n",
    "plt.xlabel('solving iteration')\n",
    "plt.ylabel('KL')\n",
    "plt.legend()\n",
    "plt.savefig('mwu_different_lr3.png')\n"
   ]
  },
  {
   "cell_type": "code",
   "execution_count": null,
   "metadata": {},
   "outputs": [],
   "source": []
  }
 ],
 "metadata": {
  "interpreter": {
   "hash": "28c6861e59928cb790236f7047915368f37afc12f670e78fd0101a6f825a02b1"
  },
  "kernelspec": {
   "display_name": "Python 3.7.0 64-bit ('x': conda)",
   "name": "python3"
  },
  "language_info": {
   "codemirror_mode": {
    "name": "ipython",
    "version": 3
   },
   "file_extension": ".py",
   "mimetype": "text/x-python",
   "name": "python",
   "nbconvert_exporter": "python",
   "pygments_lexer": "ipython3",
   "version": "3.7.0"
  },
  "toc": {
   "base_numbering": 1,
   "nav_menu": {},
   "number_sections": true,
   "sideBar": true,
   "skip_h1_title": false,
   "title_cell": "Table of Contents",
   "title_sidebar": "Contents",
   "toc_cell": false,
   "toc_position": {},
   "toc_section_display": true,
   "toc_window_display": false
  }
 },
 "nbformat": 4,
 "nbformat_minor": 5
}
